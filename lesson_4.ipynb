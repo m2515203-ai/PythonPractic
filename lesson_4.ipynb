{
 "cells": [
  {
   "metadata": {},
   "cell_type": "markdown",
   "source": "# Упражнение 1: Класс Point",
   "id": "215ffa331c48b761"
  },
  {
   "metadata": {
    "ExecuteTime": {
     "end_time": "2025-10-22T08:04:43.577933Z",
     "start_time": "2025-10-22T08:04:43.573898Z"
    }
   },
   "cell_type": "code",
   "source": [
    "import copy\n",
    "\n",
    "\n",
    "class Point:\n",
    "    def __init__(self, x, y):\n",
    "        self.x = x\n",
    "        self.y = y\n",
    "\n",
    "    def __repr__(self):\n",
    "        return f\"Point({self.x}, {self.y})\"\n",
    "\n",
    "\n",
    "p1 = Point(0, 0)\n",
    "p2 = Point(5, 10)\n",
    "print(p1)\n",
    "print(p2)"
   ],
   "id": "3828e873caa39000",
   "outputs": [
    {
     "name": "stdout",
     "output_type": "stream",
     "text": [
      "Point(0, 0)\n",
      "Point(5, 10)\n"
     ]
    }
   ],
   "execution_count": 1
  },
  {
   "metadata": {},
   "cell_type": "markdown",
   "source": "# Упражнение 2: Класс Rectangle",
   "id": "8f4ae6a65586f887"
  },
  {
   "metadata": {
    "ExecuteTime": {
     "end_time": "2025-10-22T08:04:43.633851Z",
     "start_time": "2025-10-22T08:04:43.629374Z"
    }
   },
   "cell_type": "code",
   "source": [
    "class Rectangle:\n",
    "    def __init__(self, bottom_left, top_right):\n",
    "        self.bottom_left = bottom_left\n",
    "        self.top_right = top_right\n",
    "\n",
    "    def area(self):\n",
    "        width = self.top_right.x - self.bottom_left.x\n",
    "        height = self.top_right.y - self.bottom_left.y\n",
    "        return width * height\n",
    "\n",
    "    def perimeter(self):\n",
    "        width = self.top_right.x - self.bottom_left.x\n",
    "        height = self.top_right.y - self.bottom_left.y\n",
    "        return 2 * (width + height)\n",
    "\n",
    "\n",
    "rect = Rectangle(Point(0, 0), Point(5, 10))\n",
    "print(f\"Площадь: {rect.area()}\")\n",
    "print(f\"Периметр: {rect.perimeter()}\")"
   ],
   "id": "177ea2d45d1db202",
   "outputs": [
    {
     "name": "stdout",
     "output_type": "stream",
     "text": [
      "Площадь: 50\n",
      "Периметр: 30\n"
     ]
    }
   ],
   "execution_count": 2
  },
  {
   "metadata": {},
   "cell_type": "markdown",
   "source": "# Упражнение 3: Метод contains для Rectangle",
   "id": "579a9af43431483e"
  },
  {
   "metadata": {
    "ExecuteTime": {
     "end_time": "2025-10-22T08:04:43.649318Z",
     "start_time": "2025-10-22T08:04:43.643988Z"
    }
   },
   "cell_type": "code",
   "source": [
    "class Rectangle:\n",
    "    def __init__(self, bottom_left, top_right):\n",
    "        self.bottom_left = bottom_left\n",
    "        self.top_right = top_right\n",
    "\n",
    "    def area(self):\n",
    "        width = self.top_right.x - self.bottom_left.x\n",
    "        height = self.top_right.y - self.bottom_left.y\n",
    "        return width * height\n",
    "\n",
    "    def perimeter(self):\n",
    "        width = self.top_right.x - self.bottom_left.x\n",
    "        height = self.top_right.y - self.bottom_left.y\n",
    "        return 2 * (width + height)\n",
    "\n",
    "    def contains(self, point):\n",
    "        return (self.bottom_left.x <= point.x <= self.top_right.x and\n",
    "                self.bottom_left.y <= point.y <= self.top_right.y)\n",
    "\n",
    "\n",
    "rect = Rectangle(Point(0, 0), Point(5, 10))\n",
    "p1 = Point(2, 5)\n",
    "p2 = Point(6, 5)\n",
    "print(f\"Точка {p1} внутри: {rect.contains(p1)}\")\n",
    "print(f\"Точка {p2} внутри: {rect.contains(p2)}\")"
   ],
   "id": "f267d75d167acd40",
   "outputs": [
    {
     "name": "stdout",
     "output_type": "stream",
     "text": [
      "Точка Point(2, 5) внутри: True\n",
      "Точка Point(6, 5) внутри: False\n"
     ]
    }
   ],
   "execution_count": 3
  },
  {
   "metadata": {},
   "cell_type": "markdown",
   "source": "# Упражнение 4: Класс Counter",
   "id": "df24557e75052b42"
  },
  {
   "metadata": {
    "ExecuteTime": {
     "end_time": "2025-10-22T08:04:43.665380Z",
     "start_time": "2025-10-22T08:04:43.660444Z"
    }
   },
   "cell_type": "code",
   "source": [
    "class Counter:\n",
    "    def __init__(self):\n",
    "        self._value = 0\n",
    "\n",
    "    def increment(self):\n",
    "        self._value += 1\n",
    "\n",
    "    def decrement(self):\n",
    "        if self._value > 0:\n",
    "            self._value -= 1\n",
    "\n",
    "    def get_counter(self):\n",
    "        return self._value\n",
    "\n",
    "\n",
    "counter = Counter()\n",
    "counter.increment()\n",
    "counter.increment()\n",
    "counter.increment()\n",
    "print(f\"Значение счётчика: {counter.get_counter()}\")\n",
    "counter.decrement()\n",
    "print(f\"Значение счётчика: {counter.get_counter()}\")\n",
    "counter.decrement()\n",
    "counter.decrement()\n",
    "counter.decrement()\n",
    "print(f\"Значение счётчика: {counter.get_counter()}\")"
   ],
   "id": "6515afcc49d4e75f",
   "outputs": [
    {
     "name": "stdout",
     "output_type": "stream",
     "text": [
      "Значение счётчика: 3\n",
      "Значение счётчика: 2\n",
      "Значение счётчика: 0\n"
     ]
    }
   ],
   "execution_count": 4
  },
  {
   "metadata": {},
   "cell_type": "markdown",
   "source": "# Упражнение 5: Класс Clock",
   "id": "c8838d84c406364"
  },
  {
   "metadata": {
    "ExecuteTime": {
     "end_time": "2025-10-22T08:04:43.681173Z",
     "start_time": "2025-10-22T08:04:43.676028Z"
    }
   },
   "cell_type": "code",
   "source": [
    "class Clock:\n",
    "    def __init__(self, hours, minutes, seconds):\n",
    "        self.hours = hours\n",
    "        self.minutes = minutes\n",
    "        self.seconds = seconds\n",
    "\n",
    "    def add_second(self):\n",
    "        self.seconds += 1\n",
    "        if self.seconds > 59:\n",
    "            self.seconds = 0\n",
    "            self.add_minute()\n",
    "\n",
    "    def add_minute(self):\n",
    "        self.minutes += 1\n",
    "        if self.minutes > 59:\n",
    "            self.minutes = 0\n",
    "            self.add_hour()\n",
    "\n",
    "    def add_hour(self):\n",
    "        self.hours += 1\n",
    "        if self.hours > 23:\n",
    "            self.hours = 0\n",
    "\n",
    "    def __repr__(self):\n",
    "        return f\"{self.hours:02d}:{self.minutes:02d}:{self.seconds:02d}\"\n",
    "\n",
    "\n",
    "clock = Clock(23, 59, 58)\n",
    "print(clock)\n",
    "clock.add_second()\n",
    "print(clock)\n",
    "clock.add_second()\n",
    "print(clock)\n",
    "clock.add_second()\n",
    "print(clock)"
   ],
   "id": "560397f683d3d7db",
   "outputs": [
    {
     "name": "stdout",
     "output_type": "stream",
     "text": [
      "23:59:58\n",
      "23:59:59\n",
      "00:00:00\n",
      "00:00:01\n"
     ]
    }
   ],
   "execution_count": 5
  },
  {
   "metadata": {},
   "cell_type": "markdown",
   "source": "# Упражнение 6: Сложение часов",
   "id": "bf1dad127d268f2d"
  },
  {
   "metadata": {
    "ExecuteTime": {
     "end_time": "2025-10-22T08:04:43.697450Z",
     "start_time": "2025-10-22T08:04:43.692796Z"
    }
   },
   "cell_type": "code",
   "source": [
    "class Clock:\n",
    "    def __init__(self, hours, minutes, seconds):\n",
    "        self.hours = hours\n",
    "        self.minutes = minutes\n",
    "        self.seconds = seconds\n",
    "\n",
    "    def add_second(self):\n",
    "        self.seconds += 1\n",
    "        if self.seconds > 59:\n",
    "            self.seconds = 0\n",
    "            self.add_minute()\n",
    "\n",
    "    def add_minute(self):\n",
    "        self.minutes += 1\n",
    "        if self.minutes > 59:\n",
    "            self.minutes = 0\n",
    "            self.add_hour()\n",
    "\n",
    "    def add_hour(self):\n",
    "        self.hours += 1\n",
    "        if self.hours > 23:\n",
    "            self.hours = 0\n",
    "\n",
    "    def __add__(self, other):\n",
    "        total_seconds = self.seconds + other.seconds\n",
    "        total_minutes = self.minutes + other.minutes\n",
    "        total_hours = self.hours + other.hours\n",
    "\n",
    "        if total_seconds > 59:\n",
    "            total_minutes += total_seconds // 60\n",
    "            total_seconds = total_seconds % 60\n",
    "\n",
    "        if total_minutes > 59:\n",
    "            total_hours += total_minutes // 60\n",
    "            total_minutes = total_minutes % 60\n",
    "\n",
    "        if total_hours > 23:\n",
    "            total_hours = total_hours % 24\n",
    "\n",
    "        return Clock(total_hours, total_minutes, total_seconds)\n",
    "\n",
    "    def __repr__(self):\n",
    "        return f\"{self.hours:02d}:{self.minutes:02d}:{self.seconds:02d}\"\n",
    "\n",
    "\n",
    "clock1 = Clock(10, 30, 45)\n",
    "clock2 = Clock(5, 40, 30)\n",
    "clock3 = clock1 + clock2\n",
    "print(f\"{clock1} + {clock2} = {clock3}\")"
   ],
   "id": "50e88c7e6ed14bd0",
   "outputs": [
    {
     "name": "stdout",
     "output_type": "stream",
     "text": [
      "10:30:45 + 05:40:30 = 16:11:15\n"
     ]
    }
   ],
   "execution_count": 6
  },
  {
   "metadata": {},
   "cell_type": "markdown",
   "source": "# Упражнение 7: Травоядное животное и трава",
   "id": "c21b482c44d2b087"
  },
  {
   "metadata": {
    "ExecuteTime": {
     "end_time": "2025-10-22T08:04:43.714382Z",
     "start_time": "2025-10-22T08:04:43.709017Z"
    }
   },
   "cell_type": "code",
   "source": [
    "class Grass:\n",
    "    def __init__(self, nutrition):\n",
    "        self.nutrition = nutrition\n",
    "\n",
    "\n",
    "class Herbivore:\n",
    "    def __init__(self, name, hunger_level=100):\n",
    "        self.name = name\n",
    "        self.hunger_level = hunger_level\n",
    "\n",
    "    def eat(self, grass):\n",
    "        if self.hunger_level > 0:\n",
    "            self.hunger_level -= grass.nutrition\n",
    "            if self.hunger_level < 0:\n",
    "                self.hunger_level = 0\n",
    "            print(f\"{self.name} съел траву. Уровень голода: {self.hunger_level}\")\n",
    "        else:\n",
    "            print(f\"{self.name} не голоден и отказывается от травы.\")\n",
    "\n",
    "\n",
    "animal = Herbivore(\"Олень\", 50)\n",
    "grass1 = Grass(30)\n",
    "grass2 = Grass(25)\n",
    "\n",
    "animal.eat(grass1)\n",
    "animal.eat(grass2)\n",
    "animal.eat(grass1)"
   ],
   "id": "a1c964ba4270e273",
   "outputs": [
    {
     "name": "stdout",
     "output_type": "stream",
     "text": [
      "Олень съел траву. Уровень голода: 20\n",
      "Олень съел траву. Уровень голода: 0\n",
      "Олень не голоден и отказывается от травы.\n"
     ]
    }
   ],
   "execution_count": 7
  },
  {
   "metadata": {},
   "cell_type": "markdown",
   "source": "# Упражнение 8: Система элементов",
   "id": "2a84472029829bb4"
  },
  {
   "metadata": {
    "ExecuteTime": {
     "end_time": "2025-10-22T08:04:43.736394Z",
     "start_time": "2025-10-22T08:04:43.725263Z"
    }
   },
   "cell_type": "code",
   "source": [
    "class Water:\n",
    "    def __add__(self, other):\n",
    "        if isinstance(other, Air):\n",
    "            return Storm()\n",
    "        elif isinstance(other, Fire):\n",
    "            return Steam()\n",
    "        elif isinstance(other, Earth):\n",
    "            return Mud()\n",
    "        return None\n",
    "\n",
    "    def __repr__(self):\n",
    "        return \"Вода\"\n",
    "\n",
    "\n",
    "class Air:\n",
    "    def __add__(self, other):\n",
    "        if isinstance(other, Water):\n",
    "            return Storm()\n",
    "        elif isinstance(other, Fire):\n",
    "            return Lightning()\n",
    "        elif isinstance(other, Earth):\n",
    "            return Dust()\n",
    "        return None\n",
    "\n",
    "    def __repr__(self):\n",
    "        return \"Воздух\"\n",
    "\n",
    "\n",
    "class Fire:\n",
    "    def __add__(self, other):\n",
    "        if isinstance(other, Water):\n",
    "            return Steam()\n",
    "        elif isinstance(other, Air):\n",
    "            return Lightning()\n",
    "        elif isinstance(other, Earth):\n",
    "            return Lava()\n",
    "        elif isinstance(other, Ice):\n",
    "            return Water()\n",
    "        return None\n",
    "\n",
    "    def __repr__(self):\n",
    "        return \"Огонь\"\n",
    "\n",
    "\n",
    "class Earth:\n",
    "    def __add__(self, other):\n",
    "        if isinstance(other, Water):\n",
    "            return Mud()\n",
    "        elif isinstance(other, Air):\n",
    "            return Dust()\n",
    "        elif isinstance(other, Fire):\n",
    "            return Lava()\n",
    "        return None\n",
    "\n",
    "    def __repr__(self):\n",
    "        return \"Земля\"\n",
    "\n",
    "\n",
    "class Ice:\n",
    "    def __add__(self, other):\n",
    "        if isinstance(other, Fire):\n",
    "            return Water()\n",
    "        elif isinstance(other, Air):\n",
    "            return Blizzard()\n",
    "        return None\n",
    "\n",
    "    def __repr__(self):\n",
    "        return \"Лёд\"\n",
    "\n",
    "\n",
    "class Storm:\n",
    "    def __repr__(self):\n",
    "        return \"Шторм\"\n",
    "\n",
    "\n",
    "class Steam:\n",
    "    def __repr__(self):\n",
    "        return \"Пар\"\n",
    "\n",
    "\n",
    "class Mud:\n",
    "    def __repr__(self):\n",
    "        return \"Грязь\"\n",
    "\n",
    "\n",
    "class Lightning:\n",
    "    def __repr__(self):\n",
    "        return \"Молния\"\n",
    "\n",
    "\n",
    "class Dust:\n",
    "    def __repr__(self):\n",
    "        return \"Пыль\"\n",
    "\n",
    "\n",
    "class Lava:\n",
    "    def __repr__(self):\n",
    "        return \"Лава\"\n",
    "\n",
    "\n",
    "class Blizzard:\n",
    "    def __repr__(self):\n",
    "        return \"Метель\"\n",
    "\n",
    "\n",
    "water = Water()\n",
    "air = Air()\n",
    "fire = Fire()\n",
    "earth = Earth()\n",
    "ice = Ice()\n",
    "\n",
    "print(f\"{water} + {air} = {water + air}\")\n",
    "print(f\"{water} + {fire} = {water + fire}\")\n",
    "print(f\"{water} + {earth} = {water + earth}\")\n",
    "print(f\"{air} + {fire} = {air + fire}\")\n",
    "print(f\"{air} + {earth} = {air + earth}\")\n",
    "print(f\"{fire} + {earth} = {fire + earth}\")\n",
    "print(f\"{ice} + {fire} = {ice + fire}\")\n",
    "print(f\"{ice} + {air} = {ice + air}\")\n",
    "print(f\"{water} + {ice} = {water + ice}\")"
   ],
   "id": "5f734afdc177098",
   "outputs": [
    {
     "name": "stdout",
     "output_type": "stream",
     "text": [
      "Вода + Воздух = Шторм\n",
      "Вода + Огонь = Пар\n",
      "Вода + Земля = Грязь\n",
      "Воздух + Огонь = Молния\n",
      "Воздух + Земля = Пыль\n",
      "Огонь + Земля = Лава\n",
      "Лёд + Огонь = Вода\n",
      "Лёд + Воздух = Метель\n",
      "Вода + Лёд = None\n"
     ]
    }
   ],
   "execution_count": 8
  },
  {
   "metadata": {},
   "cell_type": "markdown",
   "source": [
    "# Упражнение 9: Обработка исключений в переводе денег\n",
    "\n",
    "Потенциальные источники ошибок:\n",
    "- Строка 23 PaymentError если аккаунт не существует\n",
    "- Строка 26 PaymentError если аккаунт не существует\n",
    "- Строка 30 NoMoneyToWithdrawError если денег на счету недостаточно\n",
    "- Строка 42 PaymentError при неожиданных ошибках при начислении и снятии средств\n",
    "- Строка 61 ValueError при вводе нечислового значения"
   ],
   "id": "83df2d9575f373ab"
  },
  {
   "metadata": {
    "ExecuteTime": {
     "end_time": "2025-10-22T08:22:28.686019Z",
     "start_time": "2025-10-22T08:22:25.609833Z"
    }
   },
   "cell_type": "code",
   "source": [
    "import copy\n",
    "\n",
    "class NoMoneyToWithdrawError(Exception):\n",
    "    def __init__(self, message):\n",
    "        super().__init__(message)\n",
    "\n",
    "\n",
    "class PaymentError(Exception):\n",
    "    def __init__(self, message):\n",
    "        super().__init__(message)\n",
    "\n",
    "\n",
    "def print_accounts(accounts):\n",
    "\n",
    "    print(\"Список клиентов ({}): \".format(len(accounts)))\n",
    "    for i, (name, value) in enumerate(accounts.items(), start=1):\n",
    "        print(\"{}. {} {}\".format(i, name, value))\n",
    "\n",
    "\n",
    "def transfer_money(accounts, account_from, account_to, value):\n",
    "\n",
    "    if account_from not in accounts:\n",
    "        raise PaymentError(f\"Счёт '{account_from}' не найден\")\n",
    "\n",
    "    if account_to not in accounts:\n",
    "        raise PaymentError(f\"Счёт '{account_to}' не найден\")\n",
    "\n",
    "    if accounts[account_from] < value:\n",
    "        raise NoMoneyToWithdrawError(\n",
    "            f\"На счету '{account_from}' недостаточно средств. Баланс: {accounts[account_from]}, требуется: {value}\"\n",
    "        )\n",
    "\n",
    "    prepaid_from_account = copy.copy(accounts[account_from])\n",
    "    prepaid_to_account = copy.copy(accounts[account_to])\n",
    "\n",
    "    try:\n",
    "        accounts[account_from] -= value\n",
    "        accounts[account_to] += value\n",
    "    except Exception as e:\n",
    "        accounts[account_from] = prepaid_from_account\n",
    "        accounts[account_to] = prepaid_to_account\n",
    "        raise PaymentError(f\"Ошибка при переводе: {e}\")\n",
    "\n",
    "\n",
    "accounts = {\n",
    "    \"Василий Иванов\": 100,\n",
    "    \"Екатерина Белых\": 1500,\n",
    "    \"Михаил Лермонтов\": 400\n",
    "}\n",
    "print_accounts(accounts)\n",
    "\n",
    "payment_info = {\n",
    "    \"account_from\": \"Екатерина Белых\",\n",
    "    \"account_to\": \"Василий Иванов\"\n",
    "}\n",
    "\n",
    "print(\"Перевод от {account_from} для {account_to}...\".format(**payment_info))\n",
    "\n",
    "try:\n",
    "    payment_info[\"value\"] = int(input(\"Сумма = \"))\n",
    "    transfer_money(accounts, **payment_info)\n",
    "    print(\"OK!\")\n",
    "except ValueError:\n",
    "    print(\"Ошибка: введите числовое значение\")\n",
    "except NoMoneyToWithdrawError as e:\n",
    "    print(f\"Ошибка: {e}\")\n",
    "except PaymentError as e:\n",
    "    print(f\"Ошибка платежа: {e}\")\n",
    "except Exception as e:\n",
    "    print(f\"Неожиданная ошибка: {e}\")\n",
    "\n",
    "print_accounts(accounts)"
   ],
   "id": "1685d70480ed0dbf",
   "outputs": [
    {
     "name": "stdout",
     "output_type": "stream",
     "text": [
      "Список клиентов (3): \n",
      "1. Василий Иванов 100\n",
      "2. Екатерина Белых 1500\n",
      "3. Михаил Лермонтов 400\n",
      "Перевод от Екатерина Белых для Василий Иванов...\n",
      "OK!\n",
      "Список клиентов (3): \n",
      "1. Василий Иванов 200\n",
      "2. Екатерина Белых 1400\n",
      "3. Михаил Лермонтов 400\n"
     ]
    }
   ],
   "execution_count": 13
  },
  {
   "metadata": {},
   "cell_type": "markdown",
   "source": "# Упражнение 10: Суммирование чисел с обработкой ошибок",
   "id": "7aac50c06deda835"
  },
  {
   "metadata": {
    "ExecuteTime": {
     "end_time": "2025-10-22T08:26:04.754156Z",
     "start_time": "2025-10-22T08:25:47.872413Z"
    }
   },
   "cell_type": "code",
   "source": [
    "def sum_numbers():\n",
    "    total = 0\n",
    "    print(\"Введите числа для суммирования (пустой ввод для выхода):\")\n",
    "\n",
    "    while True:\n",
    "        user_input = input(\"Число: \")\n",
    "\n",
    "        if user_input == \"\":\n",
    "            break\n",
    "\n",
    "        try:\n",
    "            number = float(user_input)\n",
    "            total += number\n",
    "            print(f\"Текущая сумма: {total}\")\n",
    "        except ValueError:\n",
    "            print(\"Предупреждение: введено не числовое значение. Попробуйте снова.\")\n",
    "\n",
    "    print(f\"Итоговая сумма: {total}\")\n",
    "\n",
    "\n",
    "sum_numbers()"
   ],
   "id": "2447d4d295f6300e",
   "outputs": [
    {
     "name": "stdout",
     "output_type": "stream",
     "text": [
      "Введите числа для суммирования (пустой ввод для выхода):\n",
      "Текущая сумма: 5.0\n",
      "Текущая сумма: 20.0\n",
      "Текущая сумма: 43.0\n",
      "Текущая сумма: 76.0\n",
      "Текущая сумма: 12421.0\n",
      "Текущая сумма: 12422.1\n",
      "Текущая сумма: 12422.6\n",
      "Итоговая сумма: 12422.6\n"
     ]
    }
   ],
   "execution_count": 15
  },
  {
   "metadata": {},
   "cell_type": "markdown",
   "source": [
    "# Упражнение 11: Конвертер оценок\n",
    "\n",
    "Таблица соответствия оценок:\n",
    "- A (отлично): 5\n",
    "- B (хорошо): 4\n",
    "- C (удовлетворительно): 3\n",
    "- D (плохо): 2\n",
    "- F (неудовлетворительно): 1"
   ],
   "id": "41cb2edc799e1e25"
  },
  {
   "metadata": {
    "ExecuteTime": {
     "end_time": "2025-10-22T08:28:07.175016Z",
     "start_time": "2025-10-22T08:27:45.418938Z"
    }
   },
   "cell_type": "code",
   "source": [
    " def grade_converter():\n",
    "    letter_to_number = {\n",
    "        'A': 5, 'B': 4, 'C': 3, 'D': 2, 'F': 1\n",
    "    }\n",
    "\n",
    "    number_to_letter = {\n",
    "        5: 'A', 4: 'B', 3: 'C', 2: 'D', 1: 'F'\n",
    "    }\n",
    "\n",
    "    print(\"Конвертер оценок (пустой ввод для выхода)\")\n",
    "    print(\"Введите числовую (1-5) или буквенную (A, B, C, D, F) оценку:\")\n",
    "\n",
    "    while True:\n",
    "        user_input = input(\"Оценка: \").strip()\n",
    "\n",
    "        if user_input == \"\":\n",
    "            break\n",
    "\n",
    "        try:\n",
    "            number = int(user_input)\n",
    "            if number in number_to_letter:\n",
    "                print(f\"{number} -> {number_to_letter[number]}\")\n",
    "            else:\n",
    "                print(\"Предупреждение: числовая оценка должна быть от 1 до 5\")\n",
    "        except ValueError:\n",
    "            letter = user_input.upper()\n",
    "            if letter in letter_to_number:\n",
    "                print(f\"{letter} -> {letter_to_number[letter]}\")\n",
    "            else:\n",
    "                print(\"Предупреждение: введено недопустимое значение. Используйте A, B, C, D, F или числа 1-5\")\n",
    "\n",
    "\n",
    "grade_converter()\n"
   ],
   "id": "be4c173eae42a7cf",
   "outputs": [
    {
     "name": "stdout",
     "output_type": "stream",
     "text": [
      "Конвертер оценок (пустой ввод для выхода)\n",
      "Введите числовую (1-5) или буквенную (A, B, C, D, F) оценку:\n",
      "5 -> A\n",
      "A -> 5\n",
      "B -> 4\n",
      "C -> 3\n",
      "D -> 2\n",
      "F -> 1\n",
      "4 -> B\n",
      "3 -> C\n",
      "2 -> D\n",
      "1 -> F\n",
      "Предупреждение: числовая оценка должна быть от 1 до 5\n",
      "Предупреждение: числовая оценка должна быть от 1 до 5\n"
     ]
    }
   ],
   "execution_count": 16
  }
 ],
 "metadata": {
  "kernelspec": {
   "display_name": "Python 3",
   "language": "python",
   "name": "python3"
  },
  "language_info": {
   "codemirror_mode": {
    "name": "ipython",
    "version": 2
   },
   "file_extension": ".py",
   "mimetype": "text/x-python",
   "name": "python",
   "nbconvert_exporter": "python",
   "pygments_lexer": "ipython2",
   "version": "2.7.6"
  }
 },
 "nbformat": 4,
 "nbformat_minor": 5
}
