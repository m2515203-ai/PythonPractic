{
 "cells": [
  {
   "metadata": {},
   "cell_type": "markdown",
   "source": "# Задача 1: Оптимизация работы со списками",
   "id": "3f65e00782b7cea2"
  },
  {
   "metadata": {
    "ExecuteTime": {
     "end_time": "2025-10-04T16:06:30.141161Z",
     "start_time": "2025-10-04T16:06:30.136902Z"
    }
   },
   "cell_type": "code",
   "source": [
    "a = [1, 5, 3]\n",
    "b = [1, 5, 1, 5]\n",
    "c = [1, 3, 1, 5, 3, 3]\n",
    "\n",
    "a.extend(b)\n",
    "count_5 = a.count(5)\n",
    "print(f'Кол-во цифр 5 при первом объединении: {count_5}')\n",
    "\n",
    "while 5 in a:\n",
    "    a.remove(5)\n",
    "\n",
    "a.extend(c)\n",
    "count_3 = a.count(3)\n",
    "print(f'Кол-во цифр 3 при втором объединении: {count_3}')\n",
    "print(f'Итоговый список: {a}')"
   ],
   "id": "38bb12d78a36e15d",
   "outputs": [
    {
     "name": "stdout",
     "output_type": "stream",
     "text": [
      "Кол-во цифр 5 при первом объединении: 3\n",
      "Кол-во цифр 3 при втором объединении: 4\n",
      "Итоговый список: [1, 3, 1, 1, 1, 3, 1, 5, 3, 3]\n"
     ]
    }
   ],
   "execution_count": 8
  },
  {
   "metadata": {},
   "cell_type": "markdown",
   "source": "# Задача 2: Объединение и сортировка списков роста",
   "id": "304660cc19868af8"
  },
  {
   "metadata": {
    "ExecuteTime": {
     "end_time": "2025-10-04T16:06:30.164288Z",
     "start_time": "2025-10-04T16:06:30.160512Z"
    }
   },
   "cell_type": "code",
   "source": [
    "class1 = list(range(160, 177, 2))\n",
    "class2 = list(range(162, 181, 3))\n",
    "\n",
    "all_students = class1 + class2\n",
    "all_students.sort()\n",
    "\n",
    "print(f'Отсортированный список учеников: {all_students}')"
   ],
   "id": "c8f42f3a5a53b8",
   "outputs": [
    {
     "name": "stdout",
     "output_type": "stream",
     "text": [
      "Отсортированный список учеников: [160, 162, 162, 164, 165, 166, 168, 168, 170, 171, 172, 174, 174, 176, 177, 180]\n"
     ]
    }
   ],
   "execution_count": 9
  },
  {
   "metadata": {},
   "cell_type": "markdown",
   "source": "# Задача 3: Поиск деталей в базе магазина",
   "id": "bf682221584f20fa"
  },
  {
   "metadata": {
    "ExecuteTime": {
     "end_time": "2025-10-04T16:26:31.946629Z",
     "start_time": "2025-10-04T16:26:26.635784Z"
    }
   },
   "cell_type": "code",
   "source": [
    "shop = [['каретка', 1200], ['шатун', 1000], ['седло', 300], ['педаль', 100],\n",
    "        ['седло', 1500], ['рама', 12000], ['обод', 2000], ['шатун', 200], ['седло', 2700]]\n",
    "\n",
    "shop_detail_names = set(map(lambda item: item[0],shop))\n",
    "\n",
    "detail_name = input('Введите название детали: ').lower()\n",
    "\n",
    "while detail_name not in shop_detail_names:\n",
    "    detail_name = input(f'(Такой детали {detail_name} нет в магазине,но есть {shop_detail_names}) \\n Введите название детали: ').lower()\n",
    "\n",
    "count = 0\n",
    "total_cost = 0\n",
    "\n",
    "for item in shop:\n",
    "    if item[0] == detail_name:\n",
    "        count += 1\n",
    "        total_cost += item[1]\n",
    "\n",
    "print(f'Кол-во деталей — {count}')\n",
    "print(f'Общая стоимость — {total_cost}')"
   ],
   "id": "2618259059006b5e",
   "outputs": [
    {
     "name": "stdout",
     "output_type": "stream",
     "text": [
      "Кол-во деталей — 3\n",
      "Общая стоимость — 4500\n"
     ]
    }
   ],
   "execution_count": 33
  },
  {
   "metadata": {},
   "cell_type": "markdown",
   "source": "# Задача 4: Управление гостями на вечеринке",
   "id": "6bf515f520ef4ebc"
  },
  {
   "metadata": {
    "ExecuteTime": {
     "end_time": "2025-10-04T16:37:20.295619Z",
     "start_time": "2025-10-04T16:36:52.106741Z"
    }
   },
   "cell_type": "code",
   "source": [
    "guests = ['Петя', 'Ваня', 'Саша', 'Лиза', 'Катя']\n",
    "commands = [\"пришел\",\"ушел\",\"пора спать\"]\n",
    "while True:\n",
    "    print(f'\\nСейчас на вечеринке {len(guests)} человек: {guests}')\n",
    "    action = input('Гость пришёл или ушёл? ').lower()\n",
    "    while action not in commands:\n",
    "        action = input(f'Комманды {commands} Гость пришёл или ушёл? ').lower()\n",
    "    if action == commands[2]:\n",
    "        print('\\nВечеринка закончилась, все легли спать.')\n",
    "        break\n",
    "\n",
    "    name = input('Имя гостя: ')\n",
    "\n",
    "    if action == commands[0]:\n",
    "        if len(guests) < 6:\n",
    "            guests.append(name)\n",
    "            print(f'Привет, {name}!')\n",
    "        else:\n",
    "            print(f'Прости, {name}, но мест нет.')\n",
    "    elif action == commands[1]:\n",
    "        if name in guests:\n",
    "            guests.remove(name)\n",
    "            print(f'Пока, {name}!')\n",
    "        else:\n",
    "            print(f\"Такого гостя нет {name}\")"
   ],
   "id": "312726d042fe4071",
   "outputs": [
    {
     "name": "stdout",
     "output_type": "stream",
     "text": [
      "\n",
      "Сейчас на вечеринке 5 человек: ['Петя', 'Ваня', 'Саша', 'Лиза', 'Катя']\n",
      "Привет, Вован!\n",
      "\n",
      "Сейчас на вечеринке 6 человек: ['Петя', 'Ваня', 'Саша', 'Лиза', 'Катя', 'Вован']\n",
      "Прости, Кот, но мест нет.\n",
      "\n",
      "Сейчас на вечеринке 6 человек: ['Петя', 'Ваня', 'Саша', 'Лиза', 'Катя', 'Вован']\n",
      "Пока, Вован!\n",
      "\n",
      "Сейчас на вечеринке 5 человек: ['Петя', 'Ваня', 'Саша', 'Лиза', 'Катя']\n",
      "\n",
      "Вечеринка закончилась, все легли спать.\n"
     ]
    }
   ],
   "execution_count": 40
  },
  {
   "metadata": {},
   "cell_type": "markdown",
   "source": "# Задача 5: Плейлист песен Depeche Mode",
   "id": "16b33be0769515a6"
  },
  {
   "metadata": {
    "ExecuteTime": {
     "end_time": "2025-10-04T16:40:23.209431Z",
     "start_time": "2025-10-04T16:39:49.172626Z"
    }
   },
   "cell_type": "code",
   "source": [
    "violator_songs = [\n",
    "    ['World in My Eyes', 4.86],\n",
    "    ['Sweetest Perfection', 4.43],\n",
    "    ['Personal Jesus', 4.56],\n",
    "    ['Halo', 4.9],\n",
    "    ['Waiting for the Night', 6.07],\n",
    "    ['Enjoy the Silence', 4.20],\n",
    "    ['Policy of Truth', 4.76],\n",
    "    ['Blue Dress', 4.29],\n",
    "    ['Clean', 5.83]\n",
    "]\n",
    "songs_names = set(map(lambda x: x[0],violator_songs))\n",
    "n = int(input('Сколько песен выбрать? '))\n",
    "total_time = 0\n",
    "\n",
    "for i in range(n):\n",
    "    song_name = input(f'Название {i + 1}-й песни: ')\n",
    "    while song_name not in songs_names:\n",
    "         song_name = input(f'Такой песни нет, но есть {songs_names} \\n Название {i + 1}-й песни: ')\n",
    "    for song in violator_songs:\n",
    "        if song[0] == song_name:\n",
    "            total_time += song[1]\n",
    "            break\n",
    "\n",
    "print(f'\\nОбщее время звучания песен: {total_time:.2f} минуты')"
   ],
   "id": "9c2002cdbb77bf6",
   "outputs": [
    {
     "name": "stdout",
     "output_type": "stream",
     "text": [
      "\n",
      "Общее время звучания песен: 10.12 минуты\n"
     ]
    }
   ],
   "execution_count": 41
  },
  {
   "metadata": {},
   "cell_type": "markdown",
   "source": "# Задача 6: Объединение списков с уникальными элементами",
   "id": "366fbde307a6b9b2"
  },
  {
   "metadata": {
    "ExecuteTime": {
     "end_time": "2025-10-04T16:49:35.485762Z",
     "start_time": "2025-10-04T16:49:29.291958Z"
    }
   },
   "cell_type": "code",
   "source": [
    "list_1 = []\n",
    "list_2 = []\n",
    "\n",
    "for i in range(0,3):\n",
    "    list_1.append(input(f\"Введите {i+1}-е число для первого списка\"))\n",
    "for i in range(0,7):\n",
    "    list_2.append(input(f\"Введите {i+1}-е число для второго списка\"))\n",
    "\n",
    "print(list_1)\n",
    "print(list_2)\n",
    "\n",
    "list_1.extend(list_2)\n",
    "\n",
    "print(list_1)\n",
    "\n",
    "list_1 = list(set(list_1))\n",
    "\n",
    "print(list_1)\n"
   ],
   "id": "1e5e2762eba717c9",
   "outputs": [
    {
     "name": "stdout",
     "output_type": "stream",
     "text": [
      "['1', '2', '3']\n",
      "['4', '5', '6', '7', '8', '9', '1']\n",
      "['1', '2', '3', '4', '5', '6', '7', '8', '9', '1']\n",
      "{'1', '3', '4', '2', '6', '7', '8', '9', '5'}\n"
     ]
    }
   ],
   "execution_count": 45
  },
  {
   "metadata": {},
   "cell_type": "markdown",
   "source": "# Задача 7: Про коньки",
   "id": "77213330ff90ceef"
  },
  {
   "metadata": {
    "ExecuteTime": {
     "end_time": "2025-10-04T17:02:31.695092Z",
     "start_time": "2025-10-04T17:02:18.539344Z"
    }
   },
   "cell_type": "code",
   "source": [
    "n = int(input('Кол-во коньков: '))\n",
    "skates = []\n",
    "for i in range(n):\n",
    "    size = int(input(f'Размер {i + 1}-й пары: '))\n",
    "    skates.append(size)\n",
    "\n",
    "k = int(input('\\nКол-во людей: '))\n",
    "person_sizes = []\n",
    "for i in range(k):\n",
    "    size = int(input(f'Размер ноги {i + 1}-го человека: '))\n",
    "    person_sizes.append(size)\n",
    "\n",
    "skates.sort()\n",
    "person_sizes.sort()\n",
    "count = 0\n",
    "\n",
    "for size in person_sizes:\n",
    "    for skate in skates:\n",
    "        if skate >= size:\n",
    "            count+=1\n",
    "            skates.remove(skate)\n",
    "\n",
    "\n",
    "\n",
    "print(f'\\nНаибольшее кол-во людей, которые могут взять ролики: {count}')"
   ],
   "id": "22205051f42bc515",
   "outputs": [
    {
     "name": "stdout",
     "output_type": "stream",
     "text": [
      "\n",
      "Наибольшее кол-во людей, которые могут взять ролики: 3\n"
     ]
    }
   ],
   "execution_count": 51
  },
  {
   "metadata": {},
   "cell_type": "markdown",
   "source": "# Задача 8: Считалка на выбывание",
   "id": "e736e70050cee90c"
  },
  {
   "metadata": {
    "ExecuteTime": {
     "end_time": "2025-10-04T17:05:47.546431Z",
     "start_time": "2025-10-04T17:05:42.062772Z"
    }
   },
   "cell_type": "code",
   "source": [
    "n = int(input('Кол-во человек: '))\n",
    "k = int(input('Какое число в считалке? '))\n",
    "print(f'Значит, выбывает каждый {k}-й человек\\n')\n",
    "\n",
    "circle = list(range(1, n + 1))\n",
    "index = 0\n",
    "\n",
    "while len(circle) > 1:\n",
    "    print(f'Текущий круг людей: {circle}')\n",
    "    print(f'Начало счёта с номера {circle[index]}')\n",
    "\n",
    "    index = (index + k - 1) % len(circle)\n",
    "    eliminated = circle.pop(index)\n",
    "    print(f'Выбывает человек под номером {eliminated}\\n')\n",
    "\n",
    "    if index >= len(circle):\n",
    "        index = 0\n",
    "\n",
    "print(f'Остался человек под номером {circle[0]}')"
   ],
   "id": "d880457c29509e6d",
   "outputs": [
    {
     "name": "stdout",
     "output_type": "stream",
     "text": [
      "Значит, выбывает каждый 5-й человек\n",
      "\n",
      "Текущий круг людей: [1, 2, 3, 4, 5]\n",
      "Начало счёта с номера 1\n",
      "Выбывает человек под номером 5\n",
      "\n",
      "Текущий круг людей: [1, 2, 3, 4]\n",
      "Начало счёта с номера 1\n",
      "Выбывает человек под номером 1\n",
      "\n",
      "Текущий круг людей: [2, 3, 4]\n",
      "Начало счёта с номера 2\n",
      "Выбывает человек под номером 3\n",
      "\n",
      "Текущий круг людей: [2, 4]\n",
      "Начало счёта с номера 4\n",
      "Выбывает человек под номером 4\n",
      "\n",
      "Остался человек под номером 2\n"
     ]
    }
   ],
   "execution_count": 1
  },
  {
   "metadata": {},
   "cell_type": "markdown",
   "source": "# Задача 9: Баланс долговых расписок",
   "id": "329d5c3f6cd1644f"
  },
  {
   "metadata": {
    "ExecuteTime": {
     "end_time": "2025-10-04T17:11:57.819703Z",
     "start_time": "2025-10-04T17:11:29.987366Z"
    }
   },
   "cell_type": "code",
   "source": [
    "n = int(input('Кол-во друзей: '))\n",
    "k = int(input('Долговых расписок: '))\n",
    "\n",
    "balance = [0] * (n + 1)\n",
    "\n",
    "for i in range(k):\n",
    "\n",
    "    debtor = int(input('Кому: '))\n",
    "    creditor = int(input('От кого: '))\n",
    "    amount = int(input('Сколько: '))\n",
    "    print(f'\\n{i + 1}-я расписка От {creditor} {debtor} на {amount}')\n",
    "    balance[debtor] -= amount\n",
    "    balance[creditor] += amount\n",
    "\n",
    "print('\\nБаланс друзей:')\n",
    "for i in range(1, n + 1):\n",
    "    print(f'{i} : {balance[i]}')"
   ],
   "id": "44f96198329556dc",
   "outputs": [
    {
     "name": "stdout",
     "output_type": "stream",
     "text": [
      "\n",
      "1-я расписка От 2 1 на 20\n",
      "\n",
      "2-я расписка От 2 1 на 20\n",
      "\n",
      "3-я расписка От 2 1 на 20\n",
      "\n",
      "Баланс друзей:\n",
      "1 : -60\n",
      "2 : 60\n"
     ]
    }
   ],
   "execution_count": 8
  },
  {
   "metadata": {},
   "cell_type": "markdown",
   "source": "# Задача 10: Дополнение последовательности до симметричной",
   "id": "e1263baf44c94e24"
  },
  {
   "metadata": {
    "ExecuteTime": {
     "end_time": "2025-10-04T17:31:59.988142Z",
     "start_time": "2025-10-04T17:31:58.053727Z"
    }
   },
   "cell_type": "code",
   "source": [
    "n = int(input('Кол-во чисел: '))\n",
    "sequence = []\n",
    "\n",
    "for i in range(n):\n",
    "    num = int(input('Число: '))\n",
    "    sequence.append(num)\n",
    "\n",
    "print(f'\\nПоследовательность: {sequence}')\n",
    "\n",
    "to_add = []\n",
    "for i in range(n):\n",
    "    temp = sequence + to_add\n",
    "    if temp == temp[::-1]:\n",
    "        break\n",
    "    to_add.append(sequence[n - 1 - i])\n",
    "\n",
    "result = sequence + to_add\n",
    "size = len(result)\n",
    "\n",
    "if (size % 2 == 0 and\n",
    "        result[size % 2 - 1] == result[size % 2]):\n",
    "   del result[size % 2]\n",
    "   del to_add[0]\n",
    "\n",
    "print(f'Нужно приписать чисел: {len(to_add)}')\n",
    "print(f'Сами числа: {to_add}')\n"
   ],
   "id": "5de2909b5a0248ca",
   "outputs": [
    {
     "name": "stdout",
     "output_type": "stream",
     "text": [
      "\n",
      "Последовательность: [1, 2]\n",
      "Нужно приписать чисел: 1\n",
      "Сами числа: [1]\n"
     ]
    }
   ],
   "execution_count": 36
  }
 ],
 "metadata": {
  "kernelspec": {
   "display_name": "Python 3",
   "language": "python",
   "name": "python3"
  },
  "language_info": {
   "codemirror_mode": {
    "name": "ipython",
    "version": 2
   },
   "file_extension": ".py",
   "mimetype": "text/x-python",
   "name": "python",
   "nbconvert_exporter": "python",
   "pygments_lexer": "ipython2",
   "version": "2.7.6"
  }
 },
 "nbformat": 4,
 "nbformat_minor": 5
}
