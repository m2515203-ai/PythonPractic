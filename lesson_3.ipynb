{
 "cells": [
  {
   "metadata": {},
   "cell_type": "markdown",
   "source": "# Упражнение 1: НОК и НОД списка чисел",
   "id": "5d9d18b8f702f23a"
  },
  {
   "metadata": {
    "ExecuteTime": {
     "end_time": "2025-10-04T19:12:02.653382Z",
     "start_time": "2025-10-04T19:12:02.648862Z"
    }
   },
   "cell_type": "code",
   "source": [
    "import math\n",
    "\n",
    "\n",
    "def gcd_list(numbers):\n",
    "    result = numbers[0]\n",
    "    for num in numbers[1:]:\n",
    "        result = math.gcd(result, num)\n",
    "    return result\n",
    "\n",
    "\n",
    "def lcm_list(numbers):\n",
    "    result = numbers[0]\n",
    "    for num in numbers[1:]:\n",
    "        result = result * num // math.gcd(result, num)\n",
    "    return result\n",
    "\n",
    "\n",
    "numbers = [12, 18, 24, 36]\n",
    "print(f\"Список: {numbers}\")\n",
    "print(f\"НОД: {gcd_list(numbers)}\")\n",
    "print(f\"НОК: {lcm_list(numbers)}\")"
   ],
   "id": "1ad01da5be3f69e0",
   "outputs": [
    {
     "name": "stdout",
     "output_type": "stream",
     "text": [
      "Список: [36, 18, 24, 12]\n",
      "НОД: 6\n",
      "НОК: 72\n"
     ]
    }
   ],
   "execution_count": 5
  },
  {
   "metadata": {},
   "cell_type": "markdown",
   "source": "# Упражнение 2: Подсчет предложений с цифрами",
   "id": "f0157364d51ed33e"
  },
  {
   "metadata": {
    "ExecuteTime": {
     "end_time": "2025-10-04T19:12:45.166320Z",
     "start_time": "2025-10-04T19:12:45.162598Z"
    }
   },
   "cell_type": "code",
   "source": [
    "def count_sentences_with_digits(sentences):\n",
    "    count = 0\n",
    "    for sentence in sentences:\n",
    "        if any(char.isdigit() for char in sentence):\n",
    "            count += 1\n",
    "    return count\n",
    "\n",
    "\n",
    "sentences = [\n",
    "    \"Привет мир\",\n",
    "    \"У меня 3 яблока\",\n",
    "    \"Сегодня хороший день\",\n",
    "    \"Мне 25 лет\",\n",
    "    \"Python 3.13\"\n",
    "]\n",
    "print(f\"Предложений с цифрами: {count_sentences_with_digits(sentences)}\")"
   ],
   "id": "4b289e16cfc5be96",
   "outputs": [
    {
     "name": "stdout",
     "output_type": "stream",
     "text": [
      "Предложений с цифрами: 3\n"
     ]
    }
   ],
   "execution_count": 6
  },
  {
   "metadata": {},
   "cell_type": "markdown",
   "source": "# Упражнение 3: Рамка вокруг текста",
   "id": "bc9d6c3964456916"
  },
  {
   "metadata": {
    "ExecuteTime": {
     "end_time": "2025-10-04T19:15:01.374187Z",
     "start_time": "2025-10-04T19:15:01.370742Z"
    }
   },
   "cell_type": "code",
   "source": [
    "def draw_frame(s, k='*'):\n",
    "    border = k * (len(s) + 2)\n",
    "    print(border)\n",
    "    print(k + s + k)\n",
    "    print(border)\n",
    "\n",
    "\n",
    "draw_frame(\"Текст в рамке\", '*')\n",
    "print()\n",
    "draw_frame(\"Другой текст\", '#')"
   ],
   "id": "1f4c495b036ab38a",
   "outputs": [
    {
     "name": "stdout",
     "output_type": "stream",
     "text": [
      "***************\n",
      "*Текст в рамке*\n",
      "***************\n",
      "\n",
      "##############\n",
      "#Другой текст#\n",
      "##############\n"
     ]
    }
   ],
   "execution_count": 7
  },
  {
   "metadata": {},
   "cell_type": "markdown",
   "source": "# Упражнение 4: Статистика символов",
   "id": "f7cf4a07792c7c52"
  },
  {
   "metadata": {
    "ExecuteTime": {
     "end_time": "2025-10-04T19:15:35.540908Z",
     "start_time": "2025-10-04T19:15:35.536923Z"
    }
   },
   "cell_type": "code",
   "source": [
    "def char_statistics(sentence):\n",
    "    sentence = sentence.lower()\n",
    "    stats = {}\n",
    "    for char in sentence:\n",
    "        if char in stats:\n",
    "            stats[char] += 1\n",
    "        else:\n",
    "            stats[char] = 1\n",
    "    return stats\n",
    "\n",
    "\n",
    "sentence = \"Привет, мир! Как дела?\"\n",
    "stats = char_statistics(sentence)\n",
    "for char, count in sorted(stats.items()):\n",
    "    print(f\"{char} = {count}\")"
   ],
   "id": "61b94c8717bd76ea",
   "outputs": [
    {
     "name": "stdout",
     "output_type": "stream",
     "text": [
      "  = 3\n",
      "! = 1\n",
      ", = 1\n",
      "? = 1\n",
      "а = 2\n",
      "в = 1\n",
      "д = 1\n",
      "е = 2\n",
      "и = 2\n",
      "к = 2\n",
      "л = 1\n",
      "м = 1\n",
      "п = 1\n",
      "р = 2\n",
      "т = 1\n"
     ]
    }
   ],
   "execution_count": 8
  },
  {
   "metadata": {},
   "cell_type": "markdown",
   "source": "# Упражнение 5: Шифр Цезаря",
   "id": "32bbac6820e3b3a4"
  },
  {
   "metadata": {
    "ExecuteTime": {
     "end_time": "2025-10-04T19:16:38.928678Z",
     "start_time": "2025-10-04T19:16:38.924017Z"
    }
   },
   "cell_type": "code",
   "source": [
    "def caesar_cipher(text, shift, encrypt=True):\n",
    "    alphabet = 'абвгдежзийклмнопрстуфхцчшщъыьэюя'\n",
    "    if not encrypt:\n",
    "        shift = -shift\n",
    "\n",
    "    result = []\n",
    "    for char in text:\n",
    "        if char.lower() in alphabet:\n",
    "            is_upper = char.isupper()\n",
    "            index = alphabet.index(char.lower())\n",
    "            new_index = (index + shift) % len(alphabet)\n",
    "            new_char = alphabet[new_index]\n",
    "            result.append(new_char.upper() if is_upper else new_char)\n",
    "        else:\n",
    "            result.append(char)\n",
    "    return ''.join(result)\n",
    "\n",
    "\n",
    "original = \"Привет, мир!\"\n",
    "shift = 3\n",
    "encrypted = caesar_cipher(original, shift, encrypt=True)\n",
    "decrypted = caesar_cipher(encrypted, shift, encrypt=False)\n",
    "\n",
    "print(f\"Исходный текст: {original}\")\n",
    "print(f\"Зашифрованный: {encrypted}\")\n",
    "print(f\"Расшифрованный: {decrypted}\")"
   ],
   "id": "8e498e71936a19bd",
   "outputs": [
    {
     "name": "stdout",
     "output_type": "stream",
     "text": [
      "Исходный текст: Привет, мир!\n",
      "Зашифрованный: Тулеих, плу!\n",
      "Расшифрованный: Привет, мир!\n"
     ]
    }
   ],
   "execution_count": 9
  },
  {
   "metadata": {},
   "cell_type": "markdown",
   "source": "# Упражнение 6: Разделение на отрицательные и неотрицательные",
   "id": "c9faf2f5e11f3780"
  },
  {
   "metadata": {
    "ExecuteTime": {
     "end_time": "2025-10-04T19:25:09.304062Z",
     "start_time": "2025-10-04T19:25:09.300753Z"
    }
   },
   "cell_type": "code",
   "source": [
    "def split_numbers(*numers):\n",
    "    negative = sorted([x for x in numers if x < 0], reverse=True)\n",
    "    non_negative = sorted([x for x in numers if x >= 0])\n",
    "    return (negative, non_negative)\n",
    "\n",
    "\n",
    "result = split_numbers(5, -3, 0, -7, 2, -1, 8, -9, 4)\n",
    "print(f\"Отрицательные (по убыванию): {result[0]}\")\n",
    "print(f\"Неотрицательные (по возрастанию): {result[1]}\")"
   ],
   "id": "af00d0eb89b81bb5",
   "outputs": [
    {
     "name": "stdout",
     "output_type": "stream",
     "text": [
      "Отрицательные (по убыванию): [-1, -3, -7, -9]\n",
      "Неотрицательные (по возрастанию): [0, 2, 4, 5, 8]\n"
     ]
    }
   ],
   "execution_count": 14
  },
  {
   "metadata": {},
   "cell_type": "markdown",
   "source": "# Упражнение 7: Проверка палиндрома",
   "id": "5b7f33372582283a"
  },
  {
   "metadata": {
    "ExecuteTime": {
     "end_time": "2025-10-04T19:26:16.169704Z",
     "start_time": "2025-10-04T19:26:16.165409Z"
    }
   },
   "cell_type": "code",
   "source": [
    "def is_palindrome(text):\n",
    "    for i in range(len(text) // 2):\n",
    "        if text[i] != text[len(text) - 1 - i]:\n",
    "            return False\n",
    "    return True\n",
    "\n",
    "\n",
    "test_words = ['anna', 'civic', 'level', 'hannah', 'python', 'казак', 'шалаш']\n",
    "for word in test_words:\n",
    "    result = \"является\" if is_palindrome(word) else \"не является\"\n",
    "    print(f\"'{word}' {result} палиндромом\")"
   ],
   "id": "d7fac8707f846115",
   "outputs": [
    {
     "name": "stdout",
     "output_type": "stream",
     "text": [
      "'anna' является палиндромом\n",
      "'civic' является палиндромом\n",
      "'level' является палиндромом\n",
      "'hannah' является палиндромом\n",
      "'python' не является палиндромом\n",
      "'казак' является палиндромом\n",
      "'шалаш' является палиндромом\n"
     ]
    }
   ],
   "execution_count": 16
  },
  {
   "metadata": {},
   "cell_type": "markdown",
   "source": "# Упражнение 8: Угадывание числа (бинарный поиск)",
   "id": "c2d284642f89fa6b"
  },
  {
   "metadata": {
    "ExecuteTime": {
     "end_time": "2025-10-04T19:29:40.494Z",
     "start_time": "2025-10-04T19:29:30.059661Z"
    }
   },
   "cell_type": "code",
   "source": [
    "def guess_number():\n",
    "    low = 1\n",
    "    high = 100\n",
    "    attempts = 0\n",
    "\n",
    "    print(\"Загадайте число от 1 до 100\")\n",
    "    print(\"Ответьте: 1 - равно, 2 - больше, 3 - меньше\")\n",
    "\n",
    "    while low <= high:\n",
    "        attempts += 1\n",
    "        mid = (low + high) // 2\n",
    "        answer = input(f\"Попытка {attempts}: Твое число равно, меньше или больше, чем {mid}? \")\n",
    "\n",
    "        if answer == '1':\n",
    "            print(f\"Ура! Угадал за {attempts} попыток!\")\n",
    "            return\n",
    "        elif answer == '2':\n",
    "            low = mid + 1\n",
    "        elif answer == '3':\n",
    "            high = mid - 1\n",
    "        else:\n",
    "            print(\"Неверный ввод!\")\n",
    "\n",
    "    print(\"Что-то пошло не так...\")\n",
    "\n",
    "\n",
    "guess_number()"
   ],
   "id": "5a84283fa8d24d0e",
   "outputs": [
    {
     "name": "stdout",
     "output_type": "stream",
     "text": [
      "Загадайте число от 1 до 100\n",
      "Ответьте: 1 - равно, 2 - больше, 3 - меньше\n",
      "Ура! Угадал за 7 попыток!\n"
     ]
    }
   ],
   "execution_count": 24
  },
  {
   "metadata": {},
   "cell_type": "markdown",
   "source": "# Упражнение 9: Конвертер систем счисления",
   "id": "5141550fd7662ec7"
  },
  {
   "metadata": {
    "ExecuteTime": {
     "end_time": "2025-10-04T19:34:47.436410Z",
     "start_time": "2025-10-04T19:34:40.786129Z"
    }
   },
   "cell_type": "code",
   "source": [
    "def from_base_to_decimal(number_str, base):\n",
    "    if base < 2 or base > 16:\n",
    "        raise ValueError(\"Основание должно быть от 2 до 16\")\n",
    "\n",
    "    digits = '0123456789ABCDEF'\n",
    "    number_str = number_str.upper()\n",
    "    decimal = 0\n",
    "\n",
    "    for i, digit in enumerate(reversed(number_str)):\n",
    "        if digit not in digits[:base]:\n",
    "            raise ValueError(f\"Неверная цифра '{digit}' для системы счисления {base}\")\n",
    "        decimal += digits.index(digit) * (base ** i)\n",
    "\n",
    "    return decimal\n",
    "\n",
    "\n",
    "def from_decimal_to_base(decimal, base):\n",
    "    if base < 2 or base > 16:\n",
    "        raise ValueError(\"Основание должно быть от 2 до 16\")\n",
    "\n",
    "    if decimal == 0:\n",
    "        return '0'\n",
    "\n",
    "    digits = '0123456789ABCDEF'\n",
    "    result = []\n",
    "\n",
    "    while decimal > 0:\n",
    "        result.append(digits[decimal % base])\n",
    "        decimal //= base\n",
    "\n",
    "    return ''.join(reversed(result))\n",
    "\n",
    "\n",
    "def convert_number():\n",
    "    try:\n",
    "        from_base = int(input(\"Введите исходную систему счисления (2-16): \"))\n",
    "        to_base = int(input(\"Введите целевую систему счисления (2-16): \"))\n",
    "        number = input(\"Введите число для преобразования: \")\n",
    "\n",
    "        decimal = from_base_to_decimal(number, from_base)\n",
    "        result = from_decimal_to_base(decimal, to_base)\n",
    "\n",
    "        print(f\"{number} (система {from_base}) = {result} (система {to_base})\")\n",
    "    except ValueError as e:\n",
    "        print(f\"Ошибка: {e}\")\n",
    "\n",
    "\n",
    "convert_number()"
   ],
   "id": "57166aea8da1405d",
   "outputs": [
    {
     "name": "stdout",
     "output_type": "stream",
     "text": [
      "999 (система 10) = 3E7 (система 16)\n"
     ]
    }
   ],
   "execution_count": 31
  },
  {
   "metadata": {},
   "cell_type": "markdown",
   "source": "# Упражнение 10: Магические даты",
   "id": "57509682a422f438"
  },
  {
   "metadata": {
    "ExecuteTime": {
     "end_time": "2025-10-04T19:36:40.539385Z",
     "start_time": "2025-10-04T19:36:40.534706Z"
    }
   },
   "cell_type": "code",
   "source": [
    "def is_magic_date(day, month, year):\n",
    "    return day * month == year % 100\n",
    "\n",
    "\n",
    "def find_magic_dates_20th_century():\n",
    "    magic_dates = []\n",
    "\n",
    "    for year in range(1900, 2000):\n",
    "        last_two_digits = year % 100\n",
    "        for month in range(1, 13):\n",
    "            if last_two_digits % month == 0:\n",
    "                day = last_two_digits // month\n",
    "                if 1 <= day <= 31:\n",
    "                    magic_dates.append(f\"{day:02d}.{month:02d}.{year}\")\n",
    "\n",
    "    return magic_dates\n",
    "\n",
    "\n",
    "print(\"Магические даты XX века:\")\n",
    "magic_dates = find_magic_dates_20th_century()\n",
    "for date in magic_dates[:20]:\n",
    "    print(date)\n",
    "print(f\"... всего найдено {len(magic_dates)} магических дат\")\n"
   ],
   "id": "587477c3feae28ef",
   "outputs": [
    {
     "name": "stdout",
     "output_type": "stream",
     "text": [
      "Магические даты XX века:\n",
      "01.01.1901\n",
      "02.01.1902\n",
      "01.02.1902\n",
      "03.01.1903\n",
      "01.03.1903\n",
      "04.01.1904\n",
      "02.02.1904\n",
      "01.04.1904\n",
      "05.01.1905\n",
      "01.05.1905\n",
      "06.01.1906\n",
      "03.02.1906\n",
      "02.03.1906\n",
      "01.06.1906\n",
      "07.01.1907\n",
      "01.07.1907\n",
      "08.01.1908\n",
      "04.02.1908\n",
      "02.04.1908\n",
      "01.08.1908\n",
      "... всего найдено 215 магических дат\n"
     ]
    }
   ],
   "execution_count": 32
  }
 ],
 "metadata": {
  "kernelspec": {
   "display_name": "Python 3",
   "language": "python",
   "name": "python3"
  },
  "language_info": {
   "codemirror_mode": {
    "name": "ipython",
    "version": 2
   },
   "file_extension": ".py",
   "mimetype": "text/x-python",
   "name": "python",
   "nbconvert_exporter": "python",
   "pygments_lexer": "ipython2",
   "version": "2.7.6"
  }
 },
 "nbformat": 4,
 "nbformat_minor": 5
}
